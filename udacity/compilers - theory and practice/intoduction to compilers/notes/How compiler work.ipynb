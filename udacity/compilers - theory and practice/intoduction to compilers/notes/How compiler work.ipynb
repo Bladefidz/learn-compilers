{
 "cells": [
  {
   "cell_type": "markdown",
   "metadata": {},
   "source": [
    "# How compiler work"
   ]
  },
  {
   "cell_type": "markdown",
   "metadata": {},
   "source": [
    "## Front-End"
   ]
  },
  {
   "cell_type": "markdown",
   "metadata": {},
   "source": [
    "A flowchart below illustrate how compiler work at the front-end"
   ]
  },
  {
   "attachments": {},
   "cell_type": "markdown",
   "metadata": {},
   "source": [
    "![front-end.png](img/front-end.png)"
   ]
  },
  {
   "cell_type": "markdown",
   "metadata": {},
   "source": [
    "**Token** is representation of word in computer terminology. Similar when we reading a book, we actually read one character one by one and grouping each of character into a readable word."
   ]
  },
  {
   "cell_type": "markdown",
   "metadata": {},
   "source": [
    "Below description of each step in the image above:"
   ]
  },
  {
   "cell_type": "markdown",
   "metadata": {},
   "source": [
    "1. **Parser** read each character from input, then send it scanner to get a token.\n",
    "\n",
    "2. **Scanner** interpreat each character from parser to generate token.\n",
    "\n",
    "3. **Semantic action** is an action to validate each generated token. If a token is invalid, then it generate semantic error."
   ]
  },
  {
   "cell_type": "markdown",
   "metadata": {},
   "source": [
    "A flowchart below illustrate detailed implementation of compilers:"
   ]
  },
  {
   "attachments": {},
   "cell_type": "markdown",
   "metadata": {},
   "source": [
    "![front-end-detail.png](img/front-end-detail.png)"
   ]
  },
  {
   "cell_type": "markdown",
   "metadata": {},
   "source": [
    "Below description of each step in the image above:"
   ]
  },
  {
   "cell_type": "markdown",
   "metadata": {},
   "source": [
    "1. Compiler run parse in the loop until all characters in the source file have been scanned.\n",
    "\n",
    "2. Do semantic analysis for each generated token from valid group of characters.\n",
    "\n",
    "3. If token is a new variable name, then put it into the symbol table.\n",
    "\n",
    "4. Else, then do semantic checks to generate code."
   ]
  }
 ],
 "metadata": {
  "kernelspec": {
   "display_name": "Python 3",
   "language": "python",
   "name": "python3"
  },
  "language_info": {
   "codemirror_mode": {
    "name": "ipython",
    "version": 3
   },
   "file_extension": ".py",
   "mimetype": "text/x-python",
   "name": "python",
   "nbconvert_exporter": "python",
   "pygments_lexer": "ipython3",
   "version": "3.6.5"
  }
 },
 "nbformat": 4,
 "nbformat_minor": 2
}

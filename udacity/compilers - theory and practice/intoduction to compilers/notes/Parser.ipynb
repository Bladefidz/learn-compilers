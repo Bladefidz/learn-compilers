{
 "cells": [
  {
   "cell_type": "markdown",
   "metadata": {},
   "source": [
    "# Parser"
   ]
  },
  {
   "cell_type": "markdown",
   "metadata": {},
   "source": [
    "Parser has three objectives, there are:"
   ]
  },
  {
   "cell_type": "markdown",
   "metadata": {},
   "source": [
    "1. **Translating code** based on predefined rule of a grammar.\n",
    "\n",
    "2. **Control** the overall operation because parser is starting point for compiler to judge when to do semantical analysis and generate immediate code. Surely, compiler will generate immediate code if only if parser done it job.\n",
    "\n",
    "3. **Produce a token** by send each character and response to scanner."
   ]
  },
  {
   "cell_type": "markdown",
   "metadata": {},
   "source": [
    "Here the example of **Grammar Rules** in C:"
   ]
  },
  {
   "cell_type": "markdown",
   "metadata": {},
   "source": [
    "```\n",
    "<C-PROG> -> MAIN OPENPAR <PARAMS> CLOSEPAR <MAIN-BODY>\n",
    "<PARAMS> -> NULL\n",
    "<PARAMS> -> VAR <VARLIST>\n",
    "<VARLIST> -> , VAR <VARLIST>\n",
    "<VARLIST> -> NULL\n",
    "<MAIN-BODY> -> CURLYOPEN <DECL-STMT> <ASSIGN-STMT> CURLYCLOSE\n",
    "<DECL-STMT> -> <TYPE> VAR <VARLIST>;\n",
    "<ASSIGN-STMT> -> VAR = <EXPR>;\n",
    "<EXPR> -> VAR\n",
    "<EXPR> -> VAR <OP> <EXPR>\n",
    "<OP> -> +\n",
    "<OP> -> -\n",
    "<TYPE> -> INT\n",
    "<TYPE> -> FLOAT\n",
    "```"
   ]
  },
  {
   "cell_type": "markdown",
   "metadata": {},
   "source": [
    "Conside an image below that illustrate how scanner and parser working together to generate token **main**:"
   ]
  },
  {
   "attachments": {},
   "cell_type": "markdown",
   "metadata": {},
   "source": [
    "![parser.png](img/parser.png)"
   ]
  },
  {
   "cell_type": "markdown",
   "metadata": {},
   "source": [
    "Parser will send each character from source code into scanner, then scanner put each character in token buffer until matched to any valid token. If group of character in current token buffer matched to any valid token, than scanner will return a valid token."
   ]
  },
  {
   "cell_type": "markdown",
   "metadata": {},
   "source": [
    "Technically, parser and scanner match each token based on grammar rule, action to source code example above could be described in step by step as below:"
   ]
  },
  {
   "cell_type": "markdown",
   "metadata": {},
   "source": [
    "1. First line matched **C-PROG** grammar contains *NULL* **PARAMS** and *CURLYOPEN*.\n",
    "2. Since *CURLYOPEN* found at the first line, the there should be contains **MAIN-BODY**.\n",
    "3. Found **DECL-STMT** at second line contains *INT* **TYPE** and two **VARLIST**.\n",
    "4. Found **<ASSIGN-STMT>** at third line.\n",
    "5. Found *CURLYCLOSE* at fouth line indicate the end of **MAIN-BODY** of **C-PROG**."
   ]
  }
 ],
 "metadata": {
  "kernelspec": {
   "display_name": "Python 3",
   "language": "python",
   "name": "python3"
  },
  "language_info": {
   "codemirror_mode": {
    "name": "ipython",
    "version": 3
   },
   "file_extension": ".py",
   "mimetype": "text/x-python",
   "name": "python",
   "nbconvert_exporter": "python",
   "pygments_lexer": "ipython3",
   "version": "3.6.5"
  }
 },
 "nbformat": 4,
 "nbformat_minor": 2
}

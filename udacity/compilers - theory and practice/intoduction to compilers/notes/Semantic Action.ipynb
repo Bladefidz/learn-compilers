{
 "cells": [
  {
   "cell_type": "markdown",
   "metadata": {},
   "source": [
    "# Semantic Action"
   ]
  },
  {
   "cell_type": "markdown",
   "metadata": {},
   "source": [
    "Before, we go into semantic action description, it better to look a little bit about symbol table."
   ]
  },
  {
   "cell_type": "markdown",
   "metadata": {},
   "source": [
    "Suppose, we have source code that declare two variables:"
   ]
  },
  {
   "cell_type": "markdown",
   "metadata": {},
   "source": [
    "```\n",
    "int a, b;\n",
    "```"
   ]
  },
  {
   "cell_type": "markdown",
   "metadata": {},
   "source": [
    "The representation of two variable in symbol table will looks like below:"
   ]
  },
  {
   "cell_type": "markdown",
   "metadata": {},
   "source": [
    "Basic Symbol Table|\n",
    "-----------------------------|\n",
    "Name | Type | Scope |\n",
    "a | int | main |\n",
    "b | int | main |"
   ]
  },
  {
   "cell_type": "markdown",
   "metadata": {},
   "source": [
    "Building symbol table is very important, but it is only did at first step. Below, the full steps of semantic action described in order:"
   ]
  },
  {
   "cell_type": "markdown",
   "metadata": {},
   "source": [
    "1. Enter variable declaration into symbol table.\n",
    "\n",
    "2. Look up variables in symbol table.\n",
    "\n",
    "3. Do binding of looked-up variables (scoping rules, etc).\n",
    "\n",
    "4. Do type checking for compatibility.\n",
    "\n",
    "5. Keep the semantic context of processing."
   ]
  },
  {
   "cell_type": "markdown",
   "metadata": {},
   "source": [
    "Step 1 to 4 will be accomplished only using symbol table, but the last step need intelligent representation of language to evaluate semantical correctness. To accomplish that, we need **action symbol embedded in the grammar**. **Action symbol is representation of semantic procedure that do semantical evaluation and return values.**."
   ]
  },
  {
   "cell_type": "markdown",
   "metadata": {},
   "source": [
    "Since action symbol embedded in the grammar, then **action symbol also called by parser at a time when a token generated**. Then compiler stored each action symbol call history into **semantic stack** to do chain traversal or backtracting."
   ]
  },
  {
   "cell_type": "markdown",
   "metadata": {},
   "source": [
    "Below an example of action symbols that embedded in grammar rule:"
   ]
  },
  {
   "cell_type": "markdown",
   "metadata": {},
   "source": [
    "```\n",
    "<decl-stmt> ➝ <type>#put-type<varlist>#do-decl\n",
    "<type> ➝ int | float\n",
    "<varlist> ➝ <var>#add-decl <varlist>\n",
    "<varlist> ➝ <var>#add-decl\n",
    "<var> ➝ ID#proc-decl\n",
    "#put-type   puts given type on semantic stack\n",
    "#proc-decl  builds decl record for var on stack\n",
    "#add-decl   builds decl-chain\n",
    "#do-decl    traverses chain on semantic stack using\n",
    "            backwards pointers entering each var into\n",
    "            symbol table\n",
    "```"
   ]
  },
  {
   "cell_type": "markdown",
   "metadata": {},
   "source": [
    "Here an example:"
   ]
  },
  {
   "cell_type": "markdown",
   "metadata": {},
   "source": [
    "```int a, b, c;```"
   ]
  },
  {
   "cell_type": "markdown",
   "metadata": {},
   "source": [
    "The order of action record calls will be:"
   ]
  },
  {
   "cell_type": "markdown",
   "metadata": {},
   "source": [
    "1. Identify grammar **decl-stmt**.\n",
    "\n",
    "2. Found token *INT* **type**.\n",
    "\n",
    "3. Call **put-type** action symbol.\n",
    "\n",
    "4. Found token **varlist**.\n",
    "\n",
    "5. Identify grammar **varlist**.\n",
    "\n",
    "6. Put each token **var** into symbo table.\n",
    "\n",
    "7. Identify grammar **var**.\n",
    "\n",
    "8. Call **proc-decl** action symbol after lookup for *ID* in symbol table.\n",
    "\n",
    "9. Call **add-decl** action symbol.\n",
    "\n",
    "10. Loop until token **var** not found.\n",
    "\n",
    "11. Call **do-decl** action symbol."
   ]
  }
 ],
 "metadata": {
  "kernelspec": {
   "display_name": "Python 3",
   "language": "python",
   "name": "python3"
  },
  "language_info": {
   "codemirror_mode": {
    "name": "ipython",
    "version": 3
   },
   "file_extension": ".py",
   "mimetype": "text/x-python",
   "name": "python",
   "nbconvert_exporter": "python",
   "pygments_lexer": "ipython3",
   "version": "3.6.5"
  }
 },
 "nbformat": 4,
 "nbformat_minor": 2
}
